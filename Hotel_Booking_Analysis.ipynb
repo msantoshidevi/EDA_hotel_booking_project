{
  "nbformat": 4,
  "nbformat_minor": 0,
  "metadata": {
    "colab": {
      "private_outputs": true,
      "provenance": [],
      "collapsed_sections": [
        "Ag9LCva-p1cl",
        "8G2x9gOozGDZ",
        "gIfDvo9L0UH2"
      ],
      "include_colab_link": true
    },
    "kernelspec": {
      "name": "python3",
      "display_name": "Python 3"
    },
    "language_info": {
      "name": "python"
    }
  },
  "cells": [
    {
      "cell_type": "markdown",
      "metadata": {
        "id": "view-in-github",
        "colab_type": "text"
      },
      "source": [
        "<a href=\"https://colab.research.google.com/github/msantoshidevi/EDA_hotel_booking_project/blob/hotel_booking-_analysis/Hotel_Booking_Analysis.ipynb\" target=\"_parent\"><img src=\"https://colab.research.google.com/assets/colab-badge.svg\" alt=\"Open In Colab\"/></a>"
      ]
    },
    {
      "cell_type": "markdown",
      "source": [
        "# **Project Name**    - Hotel Booking Analysis\n",
        "\n"
      ],
      "metadata": {
        "id": "vncDsAP0Gaoa"
      }
    },
    {
      "cell_type": "markdown",
      "source": [
        "##### **Project Type**    - EDA\n",
        "##### **Contribution**    - Individual"
      ],
      "metadata": {
        "id": "beRrZCGUAJYm"
      }
    },
    {
      "cell_type": "markdown",
      "source": [
        "# **Project Summary -**"
      ],
      "metadata": {
        "id": "FJNUwmbgGyua"
      }
    },
    {
      "cell_type": "markdown",
      "source": [
        "This exploratory data analysis(EDA) project focuses on analyzing the Hotel Booking dataset. This hotel booking dataset contain booking information for city hotel and resort hotel and includes information such as when the booking was made, length of stay, the number of adults, chieldren and/or babies, and the number of available parking spaces, among other things.\n",
        "\n",
        "It consists of 1,19,390 observations and 31 variables. Each observation represents a hotel booking. The dataset comprehense bookings arrive between the 1st of July of 2015 and 31st of August 2017, including bookings that effectively arrived and bookings that were cancelled.\n",
        "\n",
        "Our analysis can help us understand about the given dataset and draw some useful insights to make some crucial business decisions regarding the factors affecting the bookings of the hotels. In hotel industry, cancellations and average daily rate are two important factors that effects the business.\n",
        "\n",
        "By understanding the factors that are determining the cancellation of certain bookings, the hotels can take necessary precautions to reduce cancellation rate.\n",
        "\n",
        "By understanding the patterns in average daily rate against different variables the hotels can be prepared in advance to generate more revenue and help to make more profitable business.\n",
        "\n",
        "Our goal here is to understand such factors in the given data by performing exploratory data analysis. Exploratory Data Analysis refers to the critical process of performing initial investigations on data, so as to discover patterns, to spot anomalies to test hypothesis and to check assumptions with the help of summary statistics and graphical representations\n",
        "\n",
        "The following are the various steps performed as a part of Exploratory Data Analysis:\n",
        "* Data preparation\n",
        "* Data cleaning\n",
        "* Univariate analysis\n",
        "* Bivariate analysis\n",
        "* Multivariate analysis\n",
        "\n",
        "**Data preparation:** Firstly, we imported libraries and dataset, some of the libraries used are NumPy, Pandas, matplotlib, seaborn. Once dataset and libraries are imported, process of analysis begins. But data have to be translated in an appropriate form. This process is known as data preparation.\n",
        "\n",
        "**Data Cleaning:** The raw data received in the data received in the data set might not be directly suitable for analysis due to presence of unwanted data like, duplicate values, null values, outliers etc. We need to handle them first before we proceed with further analysis.\n",
        "\n",
        "The duplicate values in the dataset to be removed, so that we get accurate patterns and numbers regarding the analysis.\n",
        "\n",
        "The missing information for some or all features in some records, we need to either remove them or find alternatives to fill up the null values.\n",
        "\n",
        "**Univariate Analysis:** Choose a single feature from the data and try to determine what the output or target value is, i.e. one features/variable at a time.\n",
        "* Understand the trends and patterns of data.\n",
        "* Analyze the frequency and other such characteristics of data.\n",
        "* Know the distribution of the variables in the data.\n",
        "* Visualise the relationship that may exist between different variables.\n",
        "\n",
        "**Bivariate Analysis:** We try to analyze two features instead of one, and finally determine the classification of output we are looking for. It is a methodical statistical technique applied to a pair of variables of data to determine the empirical relationship between them. In  order words, it is meant to determine any concurrent relations.\n",
        "\n",
        "**Multivariate Analysis: We analyze three or more different features at a time, to understand the relationship between all the features involved.\n",
        "\n",
        "After completing all the above processes, we have observed final conclusion from the patterns of the analysis and identified anomalies that can help increase the business objective. Based on findings, we recommand the hotels to implement necessary steps and plans to improve the marketing strategy."
      ],
      "metadata": {
        "id": "F6v_1wHtG2nS"
      }
    },
    {
      "cell_type": "markdown",
      "source": [
        "# **GitHub Link -**"
      ],
      "metadata": {
        "id": "w6K7xa23Elo4"
      }
    },
    {
      "cell_type": "markdown",
      "source": [
        "https://github.com/msantoshidevi/EDA_hotel_booking_project.git"
      ],
      "metadata": {
        "id": "h1o69JH3Eqqn"
      }
    },
    {
      "cell_type": "markdown",
      "source": [
        "# **Problem Statement**\n"
      ],
      "metadata": {
        "id": "yQaldy8SH6Dl"
      }
    },
    {
      "cell_type": "markdown",
      "source": [
        "We are here to explore a hotel booking dataset to discover important factors that govern the bookings, which contain booking information for a city hotel and resort hotel. We will analyze some important aspects of hotel bookings which will helps us identify major loopholes and give us insights which will be helpful to run profitable hotel business are as follows:\n",
        "* Optimal length of stay to get the best daily rate?\n",
        "* Which agent makes most number of bookings?\n",
        "* which month results in high revenue?\n",
        "* To predict whether or not a hotel was likely to receive a disproportionately high number of special requests?"
      ],
      "metadata": {
        "id": "DpeJGUA3kjGy"
      }
    },
    {
      "cell_type": "markdown",
      "source": [
        "#### **Define Your Business Objective?**"
      ],
      "metadata": {
        "id": "PH-0ReGfmX4f"
      }
    },
    {
      "cell_type": "markdown",
      "source": [
        "In Hotel industry, cancellation and Average Daily Rate  are two important factors that helps to run the business effectively.\n",
        "- By understanding the factors that are determining the cancellation of a certain bookings, the hotels can take necessary precautions to reduce cancellation rate.\n",
        "- By understanding the patterns in Average Daily Rate against different variables, the hotels can be prepared in advance to generate more revenue and help to make a profitable business.\n",
        "\n",
        "Our goal here is to understand such factors in the given dataset by performing Exploratory Data Analysis."
      ],
      "metadata": {
        "id": "PhDvGCAqmjP1"
      }
    },
    {
      "cell_type": "markdown",
      "source": [
        "# **General Guidelines** : -  "
      ],
      "metadata": {
        "id": "mDgbUHAGgjLW"
      }
    },
    {
      "cell_type": "markdown",
      "source": [
        "1.   Well-structured, formatted, and commented code is required.\n",
        "2.   Exception Handling, Production Grade Code & Deployment Ready Code will be a plus. Those students will be awarded some additional credits.\n",
        "     \n",
        "     The additional credits will have advantages over other students during Star Student selection.\n",
        "       \n",
        "             [ Note: - Deployment Ready Code is defined as, the whole .ipynb notebook should be executable in one go\n",
        "                       without a single error logged. ]\n",
        "\n",
        "3.   Each and every logic should have proper comments.\n",
        "4. You may add as many number of charts you want. Make Sure for each and every chart the following format should be answered.\n",
        "        \n",
        "\n",
        "```\n",
        "# Chart visualization code\n",
        "```\n",
        "            \n",
        "\n",
        "*   Why did you pick the specific chart?\n",
        "*   What is/are the insight(s) found from the chart?\n",
        "* Will the gained insights help creating a positive business impact?\n",
        "Are there any insights that lead to negative growth? Justify with specific reason.\n",
        "\n",
        "5. You have to create at least 20 logical & meaningful charts having important insights.\n",
        "\n",
        "\n",
        "[ Hints : - Do the Vizualization in  a structured way while following \"UBM\" Rule.\n",
        "\n",
        "U - Univariate Analysis,\n",
        "\n",
        "B - Bivariate Analysis (Numerical - Categorical, Numerical - Numerical, Categorical - Categorical)\n",
        "\n",
        "M - Multivariate Analysis\n",
        " ]\n",
        "\n",
        "\n",
        "\n"
      ],
      "metadata": {
        "id": "ZrxVaUj-hHfC"
      }
    },
    {
      "cell_type": "markdown",
      "source": [
        "# ***Let's Begin !***"
      ],
      "metadata": {
        "id": "O_i_v8NEhb9l"
      }
    },
    {
      "cell_type": "markdown",
      "source": [
        "## ***1. Know Your Data***"
      ],
      "metadata": {
        "id": "HhfV-JJviCcP"
      }
    },
    {
      "cell_type": "markdown",
      "source": [
        "### Import Libraries"
      ],
      "metadata": {
        "id": "Y3lxredqlCYt"
      }
    },
    {
      "cell_type": "code",
      "source": [
        "# Import Libraries\n",
        "import pandas as pd\n",
        "import numpy as np\n",
        "import seaborn as sns\n",
        "import matplotlib.pyplot as plt"
      ],
      "metadata": {
        "id": "M8Vqi-pPk-HR"
      },
      "execution_count": null,
      "outputs": []
    },
    {
      "cell_type": "markdown",
      "source": [
        "### Dataset Loading"
      ],
      "metadata": {
        "id": "3RnN4peoiCZX"
      }
    },
    {
      "cell_type": "code",
      "source": [
        "# Load Dataset"
      ],
      "metadata": {
        "id": "4CkvbW_SlZ_R"
      },
      "execution_count": null,
      "outputs": []
    },
    {
      "cell_type": "code",
      "source": [
        "from google.colab import drive\n",
        "drive.mount('/content/drive')"
      ],
      "metadata": {
        "id": "dz8AUCBCCRx_"
      },
      "execution_count": null,
      "outputs": []
    },
    {
      "cell_type": "code",
      "source": [
        "hotel_df = pd.read_csv(\"/content/drive/MyDrive/Project/Hotel Bookings.csv\")\n",
        "hotel_df"
      ],
      "metadata": {
        "id": "Em5leDxaCXIe"
      },
      "execution_count": null,
      "outputs": []
    },
    {
      "cell_type": "markdown",
      "source": [
        "### Dataset First View"
      ],
      "metadata": {
        "id": "x71ZqKXriCWQ"
      }
    },
    {
      "cell_type": "code",
      "source": [
        "# Dataset First Look\n",
        "hotel_df.head()"
      ],
      "metadata": {
        "id": "LWNFOSvLl09H"
      },
      "execution_count": null,
      "outputs": []
    },
    {
      "cell_type": "markdown",
      "source": [
        "### Dataset Rows & Columns count"
      ],
      "metadata": {
        "id": "7hBIi_osiCS2"
      }
    },
    {
      "cell_type": "code",
      "source": [
        "# Dataset Rows & Columns count\n",
        "hotel_df.shape"
      ],
      "metadata": {
        "id": "Kllu7SJgmLij"
      },
      "execution_count": null,
      "outputs": []
    },
    {
      "cell_type": "markdown",
      "source": [
        "**OBSERVATION**\n",
        "\n",
        "* There are 119390 rows and 32 columns which means there are 119390 observations and 31 variables.\n",
        "\n"
      ],
      "metadata": {
        "id": "gt75GwcXYiTJ"
      }
    },
    {
      "cell_type": "markdown",
      "source": [
        "### Dataset Information"
      ],
      "metadata": {
        "id": "JlHwYmJAmNHm"
      }
    },
    {
      "cell_type": "code",
      "source": [
        "# Dataset Info\n",
        "hotel_df.info()"
      ],
      "metadata": {
        "id": "e9hRXRi6meOf"
      },
      "execution_count": null,
      "outputs": []
    },
    {
      "cell_type": "code",
      "source": [
        "# Creating a copy of dataframe\n",
        "df = hotel_df.copy()"
      ],
      "metadata": {
        "id": "cj0aSdmNXcWb"
      },
      "execution_count": null,
      "outputs": []
    },
    {
      "cell_type": "markdown",
      "source": [
        "#### Duplicate Values"
      ],
      "metadata": {
        "id": "35m5QtbWiB9F"
      }
    },
    {
      "cell_type": "code",
      "source": [
        "# Dataset Duplicate Value Count\n",
        "df[hotel_df.duplicated()].shape"
      ],
      "metadata": {
        "id": "1sLdpKYkmox0"
      },
      "execution_count": null,
      "outputs": []
    },
    {
      "cell_type": "markdown",
      "source": [
        "**OBSERVATION**\n",
        "*   The number of duplicate rows are 31994 out of 119390."
      ],
      "metadata": {
        "id": "8frJIbWrZ9ul"
      }
    },
    {
      "cell_type": "code",
      "source": [
        "df.drop_duplicates(inplace = True)"
      ],
      "metadata": {
        "id": "mh-MMNV9ajpS"
      },
      "execution_count": null,
      "outputs": []
    },
    {
      "cell_type": "code",
      "source": [
        "df.shape"
      ],
      "metadata": {
        "id": "61z0sg2oapRs"
      },
      "execution_count": null,
      "outputs": []
    },
    {
      "cell_type": "markdown",
      "source": [
        "**OBSERVATION**\n",
        "*   After removing 31994 duplicate rows, we have 87396 rows and 32 columns in the dataset."
      ],
      "metadata": {
        "id": "Ani-T_h7auZ6"
      }
    },
    {
      "cell_type": "markdown",
      "source": [
        "#### Missing Values/Null Values"
      ],
      "metadata": {
        "id": "PoPl-ycgm1ru"
      }
    },
    {
      "cell_type": "code",
      "source": [
        "# Missing Values/Null Values Count\n",
        "df.isnull().sum().sort_values(ascending = False)[:6]"
      ],
      "metadata": {
        "id": "GgHWkxvamxVg"
      },
      "execution_count": null,
      "outputs": []
    },
    {
      "cell_type": "code",
      "source": [
        "df['agent'].unique()"
      ],
      "metadata": {
        "id": "jkWR90sUcAO_"
      },
      "execution_count": null,
      "outputs": []
    },
    {
      "cell_type": "code",
      "source": [
        "df['company'].unique()"
      ],
      "metadata": {
        "id": "eNJgjHm6cKGX"
      },
      "execution_count": null,
      "outputs": []
    },
    {
      "cell_type": "markdown",
      "source": [
        "**OBSERVATION**\n",
        "\n",
        "*   Since, company and agent columns have company number and agent numbers as\n",
        "data.\n",
        "*   There may be some cases when customer didnt booked hotel via any agent or via any company.\n",
        "*    So in that case values can be null under these columns.\n",
        "*   We will replace null values by 0 in these columns"
      ],
      "metadata": {
        "id": "8STSnsLWc70f"
      }
    },
    {
      "cell_type": "code",
      "source": [
        "df[['company','agent']] = df[['company','agent']].fillna(0)"
      ],
      "metadata": {
        "id": "FoefjqIbc3do"
      },
      "execution_count": null,
      "outputs": []
    },
    {
      "cell_type": "code",
      "source": [
        "df['children'].unique()"
      ],
      "metadata": {
        "id": "3Au9YnX0erZS"
      },
      "execution_count": null,
      "outputs": []
    },
    {
      "cell_type": "markdown",
      "source": [
        "**OBSERVATION**\n",
        "\n",
        "*  This column 'children' has 0 as value which means 0 children were present in group of customers who made that transaction.\n",
        "*   So, 'nan' values are the missing values due to error of recording data."
      ],
      "metadata": {
        "id": "kECo59AJd9Lf"
      }
    },
    {
      "cell_type": "code",
      "source": [
        "df['children'].fillna(df['children'].mean(), inplace = True)"
      ],
      "metadata": {
        "id": "YJrNRqPZe3kH"
      },
      "execution_count": null,
      "outputs": []
    },
    {
      "cell_type": "code",
      "source": [
        "df['country'].unique()"
      ],
      "metadata": {
        "id": "Ro_3BeEbfowm"
      },
      "execution_count": null,
      "outputs": []
    },
    {
      "cell_type": "markdown",
      "source": [
        "**OBSERVATION**\n",
        "*   'country' column represents the country of origin of customer.\n",
        "*   Since, this column has datatype of string. We will replace the missing value with the mode of 'country' column."
      ],
      "metadata": {
        "id": "nTp_OMmNfK_H"
      }
    },
    {
      "cell_type": "code",
      "source": [
        "df['country'].fillna('others', inplace = True)"
      ],
      "metadata": {
        "id": "gnljT1xse7LA"
      },
      "execution_count": null,
      "outputs": []
    },
    {
      "cell_type": "code",
      "source": [
        "df.isnull().sum().sort_values(ascending = False)[:6]"
      ],
      "metadata": {
        "id": "9rtTzVXjgCBn"
      },
      "execution_count": null,
      "outputs": []
    },
    {
      "cell_type": "code",
      "source": [
        "df[(df[\"adults\"] == 0) & (df['children'] == 0) & (df['babies'] == 0)][[\"adults\",\"children\",\"babies\",\"is_canceled\"]]"
      ],
      "metadata": {
        "id": "4aVWJVLBhjYU"
      },
      "execution_count": null,
      "outputs": []
    },
    {
      "cell_type": "markdown",
      "source": [
        "**OBSERVATION**\n",
        "\n",
        "There are some rows with total number of adults, children or babies equal to zero. As adults, babies, and children can't be zero at the same time, so dropping the rows having all these zero at the same time because will mean that the hotel/room was not even booked."
      ],
      "metadata": {
        "id": "Mwl02EsUmuJh"
      }
    },
    {
      "cell_type": "code",
      "source": [
        "df[df['adults']+df['babies']+df['children'] == 0].shape"
      ],
      "metadata": {
        "id": "TItic3komtba"
      },
      "execution_count": null,
      "outputs": []
    },
    {
      "cell_type": "code",
      "source": [
        "df.drop(df[df['adults']+df['babies']+df['children'] == 0].index, inplace = True)"
      ],
      "metadata": {
        "id": "TyRbNbZpnJAN"
      },
      "execution_count": null,
      "outputs": []
    },
    {
      "cell_type": "code",
      "source": [
        "df.shape"
      ],
      "metadata": {
        "id": "tG22FuNHnWP8"
      },
      "execution_count": null,
      "outputs": []
    },
    {
      "cell_type": "markdown",
      "source": [
        "### What did you know about your dataset?"
      ],
      "metadata": {
        "id": "H0kj-8xxnORC"
      }
    },
    {
      "cell_type": "markdown",
      "source": [
        "The dataset contains information about bookings and revenue for resots and hotels properties from July 2015 to August 2017. After filling missing values, removing duplicates and unwanted data removing, dataset consists of 87230 rows and 32 columns provides comprehensive details for analysis.\n",
        "\n",
        "Our objective to analyze the data and gain insights into the best time for hotel bookings and the optimal length of stay to obtain the best rates. Additionally, we will explore other key aspects of the dataset to uncover valuable information.\n",
        "\n",
        "By conducting a thorough analysis of this dataset, we aim to provide meaningful insights and recommendations to improve the booking strategies and revenue optimization for resort and hotel properties."
      ],
      "metadata": {
        "id": "gfoNAAC-nUe_"
      }
    },
    {
      "cell_type": "markdown",
      "source": [
        "## ***2. Understanding Your Variables***"
      ],
      "metadata": {
        "id": "nA9Y7ga8ng1Z"
      }
    },
    {
      "cell_type": "code",
      "source": [
        "# Dataset Columns\n",
        "df.columns"
      ],
      "metadata": {
        "id": "j7xfkqrt5Ag5"
      },
      "execution_count": null,
      "outputs": []
    },
    {
      "cell_type": "code",
      "source": [
        "# Dataset Describe\n",
        "df.describe()"
      ],
      "metadata": {
        "id": "DnOaZdaE5Q5t"
      },
      "execution_count": null,
      "outputs": []
    },
    {
      "cell_type": "markdown",
      "source": [
        "### Variables Description"
      ],
      "metadata": {
        "id": "PBTbrJXOngz2"
      }
    },
    {
      "cell_type": "markdown",
      "source": [
        "**'hotel':** Name of hotel ( City or Resort) (object)\n",
        "\n",
        "**'is_canceled':** Whether the booking is canceled or not (0 for no canceled and 1 for canceled) (int64)\n",
        "\n",
        "**'lead_time':** time (in days) between booking transaction and actual arrival (int64)\n",
        "\n",
        "**'arrival_date_year':** Year of arrival (int64)\n",
        "\n",
        "**'arrival_date_month':** month of arrival (object)\n",
        "\n",
        "**'arrival_date_week_number':** week number of arrival date (int64)\n",
        "\n",
        "**'arrival_date_day_of_month':** Day of month of arrival date (int64)\n",
        "\n",
        "**'stays_in_weekend_nights':** No. of weekend nights spent in a hotel (int64)\n",
        "\n",
        "**'stays_in_week_nights':** No. of weeknights spent in a hotel (int64)\n",
        "\n",
        "**'adults':** No. of adults in single booking record (int64)\n",
        "\n",
        "**'children':** No. of children in single booking record. (float64)\n",
        "\n",
        "**'babies':** No. of babies in single booking record. (int64)\n",
        "\n",
        "**'meal':** Type of meal chosen BB – Bed & Breakfast , HB – only two meals including breakfast meal\n",
        ", FB – breakfast, lunch, and dinner (object)\n",
        "\n",
        "**'country':** Country of origin of customers (as mentioned by them) (object)\n",
        "\n",
        "**'market_segment':** What segment via booking was made and for what purpose. - TA: Travel agents, TO: Tour operators (object)\n",
        "\n",
        "**'distribution_channel':** Via which medium booking was made.(object)\n",
        "\n",
        "**'is_repeated_guest':**  Whether the customer has made any booking before(0 for No and 1 for Yes) (int64)\n",
        "\n",
        "**'previous_cancellations':** No. of previous canceled bookings. (int64)\n",
        "\n",
        "**'previous_bookings_not_canceled':** No. of previous non-canceled bookings. (int64)\n",
        "\n",
        "**'reserved_room_type':** Room type reserved by a customer. (object)\n",
        "\n",
        "**'assigned_room_type':** Room type assigned to the customer. (object)\n",
        "\n",
        "**'booking_changes':** No. of booking changes done by customers (int64)\n",
        "\n",
        "**'deposit_type':** Type of deposit at the time of making a booking (No deposit/ Refundable/ No refund) (object)\n",
        "\n",
        "**'agent':** Id of agent for booking (float64)\n",
        "\n",
        "**'company':** Id of the company making a booking (float64)\n",
        "\n",
        "**'days_in_waiting_list':** No. of days on waiting list. (int64)\n",
        "\n",
        "**'customer_type':** Type of customer(Transient, Group, etc.) (object)\n",
        "\n",
        "**'adr':** Average Daily rate. (float64)\n",
        "\n",
        "**'required_car_parking_spaces':** No. of car parking asked in booking (int64)\n",
        "\n",
        "**'total_of_special_requests':** total no. of special request. (int64)\n",
        "\n",
        "**'reservation_status':** Whether a customer has checked out or canceled,or not showed (object)\n",
        "\n",
        "**'reservation_status_date':** Date of making reservation status. (object)"
      ],
      "metadata": {
        "id": "aJV4KIxSnxay"
      }
    },
    {
      "cell_type": "markdown",
      "source": [
        "### Check Unique Values for each variable."
      ],
      "metadata": {
        "id": "u3PMJOP6ngxN"
      }
    },
    {
      "cell_type": "code",
      "source": [
        "for i in df.columns.tolist():\n",
        "  print(f\"No. of unique values in {i} is {df[i].nunique()}\")"
      ],
      "metadata": {
        "id": "TiO3P-NSenAE"
      },
      "execution_count": null,
      "outputs": []
    },
    {
      "cell_type": "code",
      "source": [
        "# Check Unique Values for each variable.\n",
        "df['hotel'].unique()"
      ],
      "metadata": {
        "id": "zms12Yq5n-jE"
      },
      "execution_count": null,
      "outputs": []
    },
    {
      "cell_type": "markdown",
      "source": [
        "There are 2 kinds of Hotels. one is Resort Hotel and other is City Hotel."
      ],
      "metadata": {
        "id": "i8-ShzFpfdc0"
      }
    },
    {
      "cell_type": "code",
      "source": [
        "df['is_canceled'].unique()"
      ],
      "metadata": {
        "id": "bCugtujCaf3l"
      },
      "execution_count": null,
      "outputs": []
    },
    {
      "cell_type": "markdown",
      "source": [
        "Whether booking is canceled or not is represented in \"is_canceled\". It consits of 2 value 0 and 1. 0 represents not canceled and 1 represents canceled booking."
      ],
      "metadata": {
        "id": "kpLq2kOlgbtJ"
      }
    },
    {
      "cell_type": "code",
      "source": [
        "df['lead_time'].unique()"
      ],
      "metadata": {
        "id": "agm_zQfZasTk"
      },
      "execution_count": null,
      "outputs": []
    },
    {
      "cell_type": "code",
      "source": [
        "df['arrival_date_year'].unique()"
      ],
      "metadata": {
        "id": "q2ITGa9bn4Oe"
      },
      "execution_count": null,
      "outputs": []
    },
    {
      "cell_type": "markdown",
      "source": [
        "'arrival_date_year' variable consists of 3 values - 2015, 2016 and 2017."
      ],
      "metadata": {
        "id": "o7mXVeUPhjDH"
      }
    },
    {
      "cell_type": "code",
      "source": [
        "df['arrival_date_month'].unique()"
      ],
      "metadata": {
        "id": "d3M4DNzUa3JF"
      },
      "execution_count": null,
      "outputs": []
    },
    {
      "cell_type": "markdown",
      "source": [
        "'arrival_date_month' variable consists of 12 values. Customers arrive through out the year."
      ],
      "metadata": {
        "id": "JJt2VSb1ied4"
      }
    },
    {
      "cell_type": "code",
      "source": [
        "df['arrival_date_week_number'].unique()"
      ],
      "metadata": {
        "id": "R4TI_ptqa-ck"
      },
      "execution_count": null,
      "outputs": []
    },
    {
      "cell_type": "code",
      "source": [
        "df['arrival_date_day_of_month'].unique()"
      ],
      "metadata": {
        "id": "ckAm6rIZbGUs"
      },
      "execution_count": null,
      "outputs": []
    },
    {
      "cell_type": "code",
      "source": [
        "df['stays_in_weekend_nights'].unique()"
      ],
      "metadata": {
        "id": "EMjactfYbO2N"
      },
      "execution_count": null,
      "outputs": []
    },
    {
      "cell_type": "code",
      "source": [
        "df['adults'].unique()"
      ],
      "metadata": {
        "id": "XKQDZws2bWqV"
      },
      "execution_count": null,
      "outputs": []
    },
    {
      "cell_type": "code",
      "source": [
        "df['children'].unique()"
      ],
      "metadata": {
        "id": "vZx2GGJabimL"
      },
      "execution_count": null,
      "outputs": []
    },
    {
      "cell_type": "code",
      "source": [
        "df['babies'].unique()"
      ],
      "metadata": {
        "id": "mIIGRY3Lbqyz"
      },
      "execution_count": null,
      "outputs": []
    },
    {
      "cell_type": "code",
      "source": [
        "df['meal'].unique()"
      ],
      "metadata": {
        "id": "sXZQkfMan_Kt"
      },
      "execution_count": null,
      "outputs": []
    },
    {
      "cell_type": "code",
      "source": [
        "df['country'].unique()"
      ],
      "metadata": {
        "id": "rLX6yVK9bywM"
      },
      "execution_count": null,
      "outputs": []
    },
    {
      "cell_type": "code",
      "source": [
        "df['market_segment'].unique()"
      ],
      "metadata": {
        "id": "n_mwdAeXoF48"
      },
      "execution_count": null,
      "outputs": []
    },
    {
      "cell_type": "code",
      "source": [
        "df['distribution_channel'].unique()"
      ],
      "metadata": {
        "id": "pR1oreR1oL4j"
      },
      "execution_count": null,
      "outputs": []
    },
    {
      "cell_type": "code",
      "source": [
        "df['is_repeated_guest'].unique()"
      ],
      "metadata": {
        "id": "l5r2A4rYb88T"
      },
      "execution_count": null,
      "outputs": []
    },
    {
      "cell_type": "code",
      "source": [
        "df['previous_cancellations'].unique()"
      ],
      "metadata": {
        "id": "OJNVCAJCcDaT"
      },
      "execution_count": null,
      "outputs": []
    },
    {
      "cell_type": "code",
      "source": [
        "df['previous_bookings_not_canceled'].unique()"
      ],
      "metadata": {
        "id": "wgUeBWlPcOaS"
      },
      "execution_count": null,
      "outputs": []
    },
    {
      "cell_type": "code",
      "source": [
        "df['reserved_room_type'].unique()"
      ],
      "metadata": {
        "id": "KVqUf_ipcYwi"
      },
      "execution_count": null,
      "outputs": []
    },
    {
      "cell_type": "code",
      "source": [
        "df['assigned_room_type'].unique()"
      ],
      "metadata": {
        "id": "-1qhNwPicaF0"
      },
      "execution_count": null,
      "outputs": []
    },
    {
      "cell_type": "code",
      "source": [
        "df['booking_changes'].unique()"
      ],
      "metadata": {
        "id": "aeEC5xzvcauC"
      },
      "execution_count": null,
      "outputs": []
    },
    {
      "cell_type": "code",
      "source": [
        "df['deposit_type'].unique()"
      ],
      "metadata": {
        "id": "ZUPZ1S7-cbV0"
      },
      "execution_count": null,
      "outputs": []
    },
    {
      "cell_type": "code",
      "source": [
        "df['agent'].unique()"
      ],
      "metadata": {
        "id": "yVEDekepcb_r"
      },
      "execution_count": null,
      "outputs": []
    },
    {
      "cell_type": "code",
      "source": [
        "df['company'].unique()"
      ],
      "metadata": {
        "id": "R-JwZyNccc5K"
      },
      "execution_count": null,
      "outputs": []
    },
    {
      "cell_type": "code",
      "source": [
        "df['days_in_waiting_list'].unique()"
      ],
      "metadata": {
        "id": "-WIo1nYmcdgj"
      },
      "execution_count": null,
      "outputs": []
    },
    {
      "cell_type": "code",
      "source": [
        "df['customer_type'].unique()"
      ],
      "metadata": {
        "id": "uXN0ob5BceIq"
      },
      "execution_count": null,
      "outputs": []
    },
    {
      "cell_type": "code",
      "source": [
        "df['adr'].unique()"
      ],
      "metadata": {
        "id": "vx7jbplpcezL"
      },
      "execution_count": null,
      "outputs": []
    },
    {
      "cell_type": "code",
      "source": [
        "df['required_car_parking_spaces'].unique()"
      ],
      "metadata": {
        "id": "Bh6b5ePdcfzj"
      },
      "execution_count": null,
      "outputs": []
    },
    {
      "cell_type": "code",
      "source": [
        "df['total_of_special_requests'].unique()"
      ],
      "metadata": {
        "id": "CceY6TgKcggL"
      },
      "execution_count": null,
      "outputs": []
    },
    {
      "cell_type": "code",
      "source": [
        "df['reservation_status'].unique()"
      ],
      "metadata": {
        "id": "9XVCVZOZchM6"
      },
      "execution_count": null,
      "outputs": []
    },
    {
      "cell_type": "code",
      "source": [
        "df['reservation_status_date'].unique()"
      ],
      "metadata": {
        "id": "bXxsbjXhchxq"
      },
      "execution_count": null,
      "outputs": []
    },
    {
      "cell_type": "markdown",
      "source": [
        "## ***PROJECT STATEMENTS UNDERSTANDING***"
      ],
      "metadata": {
        "id": "xsYU17yRI4xx"
      }
    },
    {
      "cell_type": "code",
      "source": [
        "df.groupby('hotel')['is_canceled'].value_counts()"
      ],
      "metadata": {
        "id": "PQRIOqjKJRSW"
      },
      "execution_count": null,
      "outputs": []
    },
    {
      "cell_type": "markdown",
      "source": [
        "**OBSERVATION:**\n",
        "\n",
        "* Number of booking in city hotel is more compare to resort hotel.\n",
        "* Cancelations in Resort hotel is less compared to city hotel."
      ],
      "metadata": {
        "id": "CkKhlMAtMRaq"
      }
    },
    {
      "cell_type": "code",
      "source": [
        "weekdays = df.stays_in_week_nights.value_counts().sum()\n",
        "weekends = df.stays_in_weekend_nights.value_counts().sum()\n",
        "print(f\"Bookings on weekdays are {weekdays} \\nBookings on weekends are {weekends}\")"
      ],
      "metadata": {
        "id": "OB58bH9LMQjD"
      },
      "execution_count": null,
      "outputs": []
    },
    {
      "cell_type": "markdown",
      "source": [
        "**OBSERVATION**\n",
        "\n",
        "Number of bookings on weekdays and weekends are same."
      ],
      "metadata": {
        "id": "MXpSyU6XOlnx"
      }
    },
    {
      "cell_type": "code",
      "source": [
        "df.arrival_date_month.value_counts(normalize=True)"
      ],
      "metadata": {
        "id": "WuYcriQWBrIg"
      },
      "execution_count": null,
      "outputs": []
    },
    {
      "cell_type": "markdown",
      "source": [
        "**OBSERVATION**\n",
        "\n",
        "August is the most occupied (busiest) month with 0.128879 bookings and January is the most unoccupied month with 0.053709 bookings."
      ],
      "metadata": {
        "id": "85BuALN-B5hw"
      }
    },
    {
      "cell_type": "code",
      "source": [
        "df.market_segment.value_counts(normalize=True)"
      ],
      "metadata": {
        "id": "NcNLGhAeCjxm"
      },
      "execution_count": null,
      "outputs": []
    },
    {
      "cell_type": "markdown",
      "source": [
        "**OBSERVATION**\n",
        "\n",
        "Around 47% of bookings are made via Online Travel Agents, almost 20% of bookings are made via Offline Travel Agents and less than 20% are Direct bookings without any other agents."
      ],
      "metadata": {
        "id": "9yVW97nHDD2H"
      }
    },
    {
      "cell_type": "code",
      "source": [
        "df.arrival_date_year.value_counts(normalize=True)"
      ],
      "metadata": {
        "id": "fUSdH5knDCzS"
      },
      "execution_count": null,
      "outputs": []
    },
    {
      "cell_type": "markdown",
      "source": [
        "**OBSERVATION**\n",
        "\n",
        "47% bookings were done in 2016, 34% in 2017 and 18 percent in 2015.. We can see increasing tendency in bookings year wise."
      ],
      "metadata": {
        "id": "yL2I-5jFDqKq"
      }
    },
    {
      "cell_type": "code",
      "source": [
        "df.meal.value_counts(normalize=True)"
      ],
      "metadata": {
        "id": "1EwtbSi3DzPX"
      },
      "execution_count": null,
      "outputs": []
    },
    {
      "cell_type": "markdown",
      "source": [
        "**OBSERVATION**\n",
        "\n",
        "Out of the meals, BB (Bed & Breakfast) is the most ordered meal which is around 77.2%, followed by HB(Half Board), SC(no meal package), Undefined and FB (Full Board)."
      ],
      "metadata": {
        "id": "stqNKyf2D4Ma"
      }
    },
    {
      "cell_type": "code",
      "source": [
        "df.customer_type.value_counts(normalize=True)"
      ],
      "metadata": {
        "id": "zdB1vu8sEH52"
      },
      "execution_count": null,
      "outputs": []
    },
    {
      "cell_type": "markdown",
      "source": [
        "**OBSERVATION**\n",
        "\n",
        "Transient type of customers are the more around 75%."
      ],
      "metadata": {
        "id": "G7PJOJCpEOV-"
      }
    },
    {
      "cell_type": "code",
      "source": [
        "df.reservation_status.value_counts(normalize=True)"
      ],
      "metadata": {
        "id": "XH7Kow_gEbp1"
      },
      "execution_count": null,
      "outputs": []
    },
    {
      "cell_type": "markdown",
      "source": [
        "**OBSERVATION**\n",
        "\n",
        "We can see 63% visitors checked out and 36% bookings were canceled"
      ],
      "metadata": {
        "id": "xvH0hjTmE6p1"
      }
    },
    {
      "cell_type": "markdown",
      "source": [
        "## 3. ***Data Wrangling***"
      ],
      "metadata": {
        "id": "dauF4eBmngu3"
      }
    },
    {
      "cell_type": "markdown",
      "source": [
        "### Data Wrangling Code"
      ],
      "metadata": {
        "id": "bKJF3rekwFvQ"
      }
    },
    {
      "cell_type": "code",
      "source": [
        "# Write your code to make your dataset analysis ready.\n",
        "df[['children', 'company', 'agent']] = df[['children', 'company', 'agent']].astype('int64')"
      ],
      "metadata": {
        "id": "wk-9a2fpoLcV"
      },
      "execution_count": null,
      "outputs": []
    },
    {
      "cell_type": "markdown",
      "source": [
        "Converting datatype of columns 'children', 'company' and 'agent' from float to int as number of children, number of company and number of agent cannot be float which are always be in integer data type."
      ],
      "metadata": {
        "id": "NOup4W2dk1Uk"
      }
    },
    {
      "cell_type": "code",
      "source": [
        "df['reservation_status_date'] = pd.to_datetime(df['reservation_status_date'], format = '%Y-%m-%d')"
      ],
      "metadata": {
        "id": "toeVYro9ky4L"
      },
      "execution_count": null,
      "outputs": []
    },
    {
      "cell_type": "markdown",
      "source": [
        "Changing datatype of column 'reservation_status_date' to data_type."
      ],
      "metadata": {
        "id": "4S50xVw_luPj"
      }
    },
    {
      "cell_type": "code",
      "source": [
        "df['total_stay'] = df['stays_in_weekend_nights']+df['stays_in_week_nights']"
      ],
      "metadata": {
        "id": "UpCaI3jdl0kE"
      },
      "execution_count": null,
      "outputs": []
    },
    {
      "cell_type": "markdown",
      "source": [
        "Adding total staying days in hotels."
      ],
      "metadata": {
        "id": "bMOFtyyimBsi"
      }
    },
    {
      "cell_type": "code",
      "source": [
        "df['total_people'] = df['adults']+df['children']+df['babies']"
      ],
      "metadata": {
        "id": "ngz_bYHXmA88"
      },
      "execution_count": null,
      "outputs": []
    },
    {
      "cell_type": "markdown",
      "source": [
        "Adding total people num as column, i.e. total people num = num of adults + children + babies.\n",
        "\n",
        "These columns are useful for further analysis."
      ],
      "metadata": {
        "id": "vnNmQXOZmR5m"
      }
    },
    {
      "cell_type": "markdown",
      "source": [
        "### What all manipulations have you done and insights you found?"
      ],
      "metadata": {
        "id": "MSa1f5Uengrz"
      }
    },
    {
      "cell_type": "markdown",
      "source": [
        "In the previous steps, we performed data wrangling by adding new columns and modifying existing columns to enhance our analysis. We made changes to the datatypes of selected columns to facilitate better operations and functions. These transformations allow us to obtain more meaningful insights from the data.\n",
        "\n",
        "By converting datatype of columns 'children','company' and 'agent' from float to int as number of children, number of companies and number of agents were float which cannot be possible. These columns have to be integer datatype. So they are converted from float to integer.\n",
        "\n",
        "'reservation_status_date' column datatype converted to datetime formate. SSo that we can extract information based on quarters, months or years. This allows us to anlyze the booking patterns over different time periods.\n",
        "\n",
        "Additionally, we introduced new columns to capture the total number of individuals involved in each booking. By aggregating the 'children', 'babies' and 'adults' columns into a new column called 'total_people'. Now we can analyze the booking based on the total number of individuals.\n",
        "\n",
        "Another new column we added is 'total_stay', which represents the total number of nights for each booking. This allows us to examine the bookings from the perspective of the duration of stay.\n",
        "\n",
        "Futhermore, we recognized the importance of visual representations in our analysis. By plotting graphs and visualizations, we can gain deeper insights and effectively communicate our findings to stakeholders."
      ],
      "metadata": {
        "id": "LbyXE7I1olp8"
      }
    },
    {
      "cell_type": "markdown",
      "source": [
        "## ***4. Data Vizualization, Storytelling & Experimenting with charts : Understand the relationships between variables***"
      ],
      "metadata": {
        "id": "GF8Ens_Soomf"
      }
    },
    {
      "cell_type": "markdown",
      "source": [
        "#### Chart - 1"
      ],
      "metadata": {
        "id": "0wOQAZs5pc--"
      }
    },
    {
      "cell_type": "code",
      "source": [
        "# Chart - 1 visualization code to find which agent makes most number of bookings.\n",
        "d1 = pd.DataFrame(df['agent'].value_counts()).reset_index().rename(columns = {'index':'agent','agent':'num_of_bookings'}).sort_values(by = 'num_of_bookings', ascending = False)\n",
        "d1.drop(d1[d1['agent'] == 0].index, inplace = True)            # 0 represents that booking is not made by an agent\n",
        "d1 = d1[:10]                                                   # Selecting top 10 performing agents\n",
        "plt.figure(figsize = (10,5))\n",
        "sns.barplot(x = 'agent', y = 'num_of_bookings', data = d1, order = d1.sort_values('num_of_bookings', ascending = False).agent)\n",
        "plt.title(\"No. of bookings agent makes\")"
      ],
      "metadata": {
        "id": "7v_ESjsspbW7"
      },
      "execution_count": null,
      "outputs": []
    },
    {
      "cell_type": "markdown",
      "source": [
        "##### 1. Why did you pick the specific chart?"
      ],
      "metadata": {
        "id": "K5QZ13OEpz2H"
      }
    },
    {
      "cell_type": "markdown",
      "source": [
        "To find which agent makes most no. of bookings? We have to compare number of bookings done by each agent.So I picked bar chart to compare the agent makes number of bookings. As bar charts are effective for comparing the sizes or frequencies of different categories or groups of data.\n",
        "\n",
        "To identify which agent makes more number of bookings by using bar chart make easily compare the percentage of booking made by each agents. It allowing for quick visual understanding of the distribution of data. This helps us to identify any significant differences or patterns among the categories or group."
      ],
      "metadata": {
        "id": "XESiWehPqBRc"
      }
    },
    {
      "cell_type": "markdown",
      "source": [
        "##### 2. What is/are the insight(s) found from the chart?"
      ],
      "metadata": {
        "id": "lQ7QKXXCp7Bj"
      }
    },
    {
      "cell_type": "markdown",
      "source": [
        "The insights found from chart are:\n",
        "* Agent no. 9 has made most number of bookings compare to other agents' number of bookings.\n",
        "* Agent no. 240 has made second highest number of bookings compare to other agents. The differents between agent no. 9 and agent no. 240 is around 1500 which is almost 50% higher.\n",
        "* Other agents made number of bookings were comparatively lesser than agent no. 9 and agent no. 240."
      ],
      "metadata": {
        "id": "C_j1G7yiqdRP"
      }
    },
    {
      "cell_type": "markdown",
      "source": [
        "##### 3. Will the gained insights help creating a positive business impact?\n",
        "Are there any insights that lead to negative growth? Justify with specific reason."
      ],
      "metadata": {
        "id": "448CDAPjqfQr"
      }
    },
    {
      "cell_type": "markdown",
      "source": [
        "Yes, the insights gained from this analysis can help to create a positive business impact. By Acknowleging the statergy that agent no. 9 which were passes to other agents can helps business to grow and large number of booking take place by agents.\n",
        "\n",
        "Agent no. 9 have to get recognization by organisation help in growth of business. This recognization motivates agent no. 9.\n",
        "\n"
      ],
      "metadata": {
        "id": "3cspy4FjqxJW"
      }
    },
    {
      "cell_type": "markdown",
      "source": [
        "#### Chart - 2"
      ],
      "metadata": {
        "id": "KSlN3yHqYklG"
      }
    },
    {
      "cell_type": "code",
      "source": [
        "# Chart - 2 visualization code( Which room type is in most demand and which room type generates highest adr?)\n",
        "fig, axes = plt.subplots(1, 2, figsize=(18, 8))\n",
        "\n",
        "grp_by_room = df.groupby('assigned_room_type')\n",
        "d1['Num_of_bookings'] = grp_by_room.size()\n",
        "\n",
        "sns.countplot(ax = axes[0], x = df['assigned_room_type'])\n",
        "sns.boxplot(ax = axes[1], x = df['assigned_room_type'], y = df['adr'])\n",
        "plt.show()"
      ],
      "metadata": {
        "id": "R4YgtaqtYklH"
      },
      "execution_count": null,
      "outputs": []
    },
    {
      "cell_type": "markdown",
      "source": [
        "##### 1. Why did you pick the specific chart?"
      ],
      "metadata": {
        "id": "t6dVpIINYklI"
      }
    },
    {
      "cell_type": "markdown",
      "source": [
        "To find which room type is in most demand and which room type generates highest average daily rate? Here countplot and box plot is used to analyses data.\n",
        "\n",
        "Countplot is used to count the assigned room types to customers for analyzing which room type is usually booked by customers. Boxplot is used to analyse average daily rate according to the room type booked by customers. According to the room type average daily rate varies which we analyse data through Boxplot."
      ],
      "metadata": {
        "id": "5aaW0BYyYklI"
      }
    },
    {
      "cell_type": "markdown",
      "source": [
        "##### 2. What is/are the insight(s) found from the chart?"
      ],
      "metadata": {
        "id": "ijmpgYnKYklI"
      }
    },
    {
      "cell_type": "markdown",
      "source": [
        "The insight found from the chart is:\n",
        "* Most demanded room type is A, but better average daily rate rooms are of type H, G and C also."
      ],
      "metadata": {
        "id": "PSx9atu2YklI"
      }
    },
    {
      "cell_type": "markdown",
      "source": [
        "##### 3. Will the gained insights help creating a positive business impact?\n",
        "Are there any insights that lead to negative growth? Justify with specific reason."
      ],
      "metadata": {
        "id": "-JiQyfWJYklI"
      }
    },
    {
      "cell_type": "markdown",
      "source": [
        "Yes, above insights help to create positive business impact. From above insight we got that hotels should increase the no. of room types A and H to maximise revenue."
      ],
      "metadata": {
        "id": "BcBbebzrYklV"
      }
    },
    {
      "cell_type": "markdown",
      "source": [
        "#### Chart - 3"
      ],
      "metadata": {
        "id": "EM7whBJCYoAo"
      }
    },
    {
      "cell_type": "code",
      "source": [
        "# Chart - 3 visualization code(What is percentage of bookings in each hotel?)\n",
        "grouped_by_hotel = df.groupby('hotel')\n",
        "d1 = pd.DataFrame((grouped_by_hotel.size()/df.shape[0])*100).reset_index().rename(columns = {0:'Booking %'})      #Calculating percentage\n",
        "plt.figure(figsize = (8,5))\n",
        "sns.barplot(x = d1['hotel'], y = d1['Booking %'] )\n",
        "plt.title(\"Total booking percentage\")\n",
        "plt.show()"
      ],
      "metadata": {
        "id": "t6GMdE67YoAp"
      },
      "execution_count": null,
      "outputs": []
    },
    {
      "cell_type": "markdown",
      "source": [
        "##### 1. Why did you pick the specific chart?"
      ],
      "metadata": {
        "id": "fge-S5ZAYoAp"
      }
    },
    {
      "cell_type": "markdown",
      "source": [
        "To find What is percentage of bookings in each hotel? We have to compare number of bookings done in each hotel type.So I picked bar chart to compare the number of bookings made in each hotel. As bar charts are effective for comparing the sizes or frequencies of different categories or groups of data.\n",
        "\n",
        "To identify What is percentage of bookings in each hotel by using bar chart make easily compare the percentage of booking made by in each hotel type. It allowing for quick visual understanding of the distribution of data. This helps us to identify any significant differences or patterns among the categories or group."
      ],
      "metadata": {
        "id": "5dBItgRVYoAp"
      }
    },
    {
      "cell_type": "markdown",
      "source": [
        "##### 2. What is/are the insight(s) found from the chart?"
      ],
      "metadata": {
        "id": "85gYPyotYoAp"
      }
    },
    {
      "cell_type": "markdown",
      "source": [
        "The insight found from the chart is:\n",
        "* Around 60% bookings are for City hotel and 40% bookings are for Resort hotel.\n",
        "* City hotel have more booking compare to Resort hotel."
      ],
      "metadata": {
        "id": "4jstXR6OYoAp"
      }
    },
    {
      "cell_type": "markdown",
      "source": [
        "##### 3. Will the gained insights help creating a positive business impact?\n",
        "Are there any insights that lead to negative growth? Justify with specific reason."
      ],
      "metadata": {
        "id": "RoGjAbkUYoAp"
      }
    },
    {
      "cell_type": "markdown",
      "source": [
        "Yes, above insights we lead to positive growth. As city hotels are more booking percentage compare to resort hotels which means city hotels have more revenue compare to resort hotels. So, city hotels have to develop and build more city hotels for increasing revenue in business. Therefore, it effects business positively."
      ],
      "metadata": {
        "id": "zfJ8IqMcYoAp"
      }
    },
    {
      "cell_type": "markdown",
      "source": [
        "#### Chart - 4"
      ],
      "metadata": {
        "id": "4Of9eVA-YrdM"
      }
    },
    {
      "cell_type": "code",
      "source": [
        "# Chart - 4 visualization code (Which hotel has higher bookings cancellation rate.)\n",
        "cancelled_data = df[df['is_canceled'] == 1]\n",
        "cancel_grp = cancelled_data.groupby('hotel')\n",
        "D1 = pd.DataFrame(cancel_grp.size()).rename(columns = {0:'total_cancelled_bookings'})\n",
        "\n",
        "# Counting total number of bookings for each type of hotel\n",
        "grouped_by_hotel = df.groupby('hotel')\n",
        "total_booking = grouped_by_hotel.size()\n",
        "D2 = pd.DataFrame(total_booking).rename(columns = {0: 'total_bookings'})\n",
        "D3 = pd.concat([D1,D2], axis = 1)\n",
        "\n",
        "# Calculating cancel percentage\n",
        "D3['cancel_%'] = round((D3['total_cancelled_bookings']/D3['total_bookings'])*100,2)\n",
        "D3"
      ],
      "metadata": {
        "id": "irlUoxc8YrdO"
      },
      "execution_count": null,
      "outputs": []
    },
    {
      "cell_type": "code",
      "source": [
        "plt.figure(figsize = (10,5))\n",
        "sns.barplot(x = D3.index, y = D3['cancel_%'])\n",
        "plt.title(\"Booking cancelation percentage\")\n",
        "plt.show()"
      ],
      "metadata": {
        "id": "ueCQX3_0hGs3"
      },
      "execution_count": null,
      "outputs": []
    },
    {
      "cell_type": "markdown",
      "source": [
        "##### 1. Why did you pick the specific chart?"
      ],
      "metadata": {
        "id": "iky9q4vBYrdO"
      }
    },
    {
      "cell_type": "markdown",
      "source": [
        "We choose bar charts to visualize the percentage of cancelled booking for different hotels because bar charts are effective for comparing the sizes or frequencies of different categories or groups of data. In this case, we wanted to compare the percentage of cancelled for City Hotel and Resort Hotel.\n",
        "\n",
        "By using bar charts,we can easily compare the relative percentages of cancelled for different hotel types. The length of the bars represents the percentage, allowing for a quick visual understanding of the distribution. This helps us to identify any significant differences or patterns among the categories or groups."
      ],
      "metadata": {
        "id": "aJRCwT6DYrdO"
      }
    },
    {
      "cell_type": "markdown",
      "source": [
        "##### 2. What is/are the insight(s) found from the chart?"
      ],
      "metadata": {
        "id": "F6T5p64dYrdO"
      }
    },
    {
      "cell_type": "markdown",
      "source": [
        "The insights found from the chart are:\n",
        "* Almost 30 % of City Hotel bookings got canceled.\n",
        "* 23.43 % of Resort Hotel bookings got canceled.\n",
        "* City Hotel cancelation percentage is more compare to Resort Hotel.\n",
        "* The different between City Hotel and Resort Hotel cancelation percentage is less i.e. around 7% only."
      ],
      "metadata": {
        "id": "Xx8WAJvtYrdO"
      }
    },
    {
      "cell_type": "markdown",
      "source": [
        "##### 3. Will the gained insights help creating a positive business impact?\n",
        "Are there any insights that lead to negative growth? Justify with specific reason."
      ],
      "metadata": {
        "id": "y-Ehk30pYrdP"
      }
    },
    {
      "cell_type": "markdown",
      "source": [
        "Yes, the insights gained form the analysis can help create a positive business impact. By analyzing the factors related to booking cancellations among different hotel type, we get insight that City Hotel have more cancellation percentage. So we have to identify areas for improvement related to City Hotel and also implement strategies to reduce cancellation in City Hotel and also in Resort Hotel as the different is not more. This can lead to increased customer satisfaction, improved revenue, and overall business growth.\n",
        "\n",
        "There are no specific insights mentioned that would lead to negative growth. The focus of the analysis is to identify areas for improvement and reduce booking cancellations, which is a positive objective for the business."
      ],
      "metadata": {
        "id": "jLNxxz7MYrdP"
      }
    },
    {
      "cell_type": "markdown",
      "source": [
        "#### Chart - 5"
      ],
      "metadata": {
        "id": "bamQiAODYuh1"
      }
    },
    {
      "cell_type": "code",
      "source": [
        "# Chart - 5 visualization code (Which is the most common channel for booking hotels?)\n",
        "group_by_dc = df.groupby('distribution_channel')\n",
        "d1 = pd.DataFrame(round((group_by_dc.size()/df.shape[0])*100,2)).reset_index().rename(columns = {0: 'Booking_%'})\n",
        "plt.figure(figsize = (8,8))\n",
        "data = d1['Booking_%']\n",
        "labels = d1['distribution_channel']\n",
        "plt.pie(x=data, autopct=\"%.2f%%\", explode=[0.05]*5, labels=labels, pctdistance=0.5)\n",
        "plt.title(\"Booking % by distribution channels\", fontsize=14);"
      ],
      "metadata": {
        "id": "TIJwrbroYuh3"
      },
      "execution_count": null,
      "outputs": []
    },
    {
      "cell_type": "markdown",
      "source": [
        "##### 1. Why did you pick the specific chart?"
      ],
      "metadata": {
        "id": "QHF8YVU7Yuh3"
      }
    },
    {
      "cell_type": "markdown",
      "source": [
        "Pie chart is used for finding which channel is  mostly commonly used for booking hotels. As a pie Chart is a circular statistical plot that can display only one series of data. The area of the chart is the total percentage of the given data. The area of slices of the pie represents the percentage of the parts of the data. The slices of pie are called wedges. The area of the wedge is determined by the length of the arc of the wedge. The area of a wedge represents the relative percentage of that part with respect to whole data.\n",
        "\n",
        "Here we used pie chart for analysing distribution channel composition. It quickly summaries the data to analyse."
      ],
      "metadata": {
        "id": "dcxuIMRPYuh3"
      }
    },
    {
      "cell_type": "markdown",
      "source": [
        "##### 2. What is/are the insight(s) found from the chart?"
      ],
      "metadata": {
        "id": "GwzvFGzlYuh3"
      }
    },
    {
      "cell_type": "markdown",
      "source": [
        "The insights found from the chart are:\n",
        "* Here we can see that the most of guest are making\n",
        "reservation through TA/TO channels which is travel\n",
        "agency and tour operator.\n",
        "* Than the second most used channel is direct."
      ],
      "metadata": {
        "id": "uyqkiB8YYuh3"
      }
    },
    {
      "cell_type": "markdown",
      "source": [
        "##### 3. Will the gained insights help creating a positive business impact?\n",
        "Are there any insights that lead to negative growth? Justify with specific reason."
      ],
      "metadata": {
        "id": "qYpmQ266Yuh3"
      }
    },
    {
      "cell_type": "markdown",
      "source": [
        "Yes, above insights help to creating a positive business impact. As we observed that most of guest are making resevation throught travel agency and tour operator channels. This channels helps for business growth and have more revenue. So these channels have to increase all over the world as possible as it can for the business growth.\n",
        "\n",
        "No, there is no insight that lead to negative growth of business.The focus of the analysis is to identify areas for improvement in other distribution channels, which is a positive objective for the business."
      ],
      "metadata": {
        "id": "_WtzZ_hCYuh4"
      }
    },
    {
      "cell_type": "markdown",
      "source": [
        "#### Chart - 6"
      ],
      "metadata": {
        "id": "OH-pJp9IphqM"
      }
    },
    {
      "cell_type": "code",
      "source": [
        "# Chart - 6 visualization code (Which distribution channel brings better revenue generating deals for hotels?)\n",
        "group_by_dc_hotel = df.groupby(['distribution_channel', 'hotel'])\n",
        "d5 = pd.DataFrame(round((group_by_dc_hotel['adr']).agg(np.mean),2)).reset_index().rename(columns = {'adr': 'avg_adr'})\n",
        "plt.figure(figsize = (7,5))\n",
        "sns.barplot(x = d5['distribution_channel'], y = d5['avg_adr'], hue = d5['hotel'])\n",
        "plt.ylim(60,140)\n",
        "plt.title(\"Average dialy rate for distribution channel\")\n",
        "plt.show()"
      ],
      "metadata": {
        "id": "kuRf4wtuphqN"
      },
      "execution_count": null,
      "outputs": []
    },
    {
      "cell_type": "markdown",
      "source": [
        "##### 1. Why did you pick the specific chart?"
      ],
      "metadata": {
        "id": "bbFf2-_FphqN"
      }
    },
    {
      "cell_type": "markdown",
      "source": [
        "We choose bar plot for comparing distribution channels' average daily rate of City hotel and Resort hotel. As bar chart make more quick analysing the data throught it and bar charts are effective for comparing the sizes or frequencies of different categories or groups of data.\n",
        "\n",
        "By using bar charts,we can easily compare the relative percentages of distribution channels' average daily rate for different hotel types. The length of the bars represents the percentage, allowing for a quick visual understanding of the distribution. This helps us to identify any significant differences or patterns among the categories or groups."
      ],
      "metadata": {
        "id": "loh7H2nzphqN"
      }
    },
    {
      "cell_type": "markdown",
      "source": [
        "##### 2. What is/are the insight(s) found from the chart?"
      ],
      "metadata": {
        "id": "_ouA3fa0phqN"
      }
    },
    {
      "cell_type": "markdown",
      "source": [
        "The insights found from the chart are :\n",
        "* GDS channel brings higher revenue generating deals for City hotel, in contrast to that most bookings come via TA/TO.\n",
        "\n",
        "* Resort hotel has more revenue generating deals by direct and TA/TO channel."
      ],
      "metadata": {
        "id": "VECbqPI7phqN"
      }
    },
    {
      "cell_type": "markdown",
      "source": [
        "##### 3. Will the gained insights help creating a positive business impact?\n",
        "Are there any insights that lead to negative growth? Justify with specific reason."
      ],
      "metadata": {
        "id": "Seke61FWphqN"
      }
    },
    {
      "cell_type": "markdown",
      "source": [
        "Yes, gained insights help creating a positive business impact. First insight i.e. GDS channel brings higher revenue generating deals for City hotel, in contrast to that most bookings come via TA/TO. So, City Hotel can work to increase outreach on GDS channels to get more higher revenue generating deals.\n",
        "\n",
        "Second insight is that Resort hotel has more revenue generating deals by direct and TA/TO channel. So, Resort Hotel need to increase outreach on GDS channel to increase revenue.\n",
        "\n",
        "No, there is no insight that lead to negative growth of business.The focus of the analysis is to identify areas for improvement in other distribution channels, which is a positive objective for the business."
      ],
      "metadata": {
        "id": "DW4_bGpfphqN"
      }
    },
    {
      "cell_type": "markdown",
      "source": [
        "#### Chart - 7"
      ],
      "metadata": {
        "id": "PIIx-8_IphqN"
      }
    },
    {
      "cell_type": "code",
      "source": [
        "# Chart - 7 visualization code (Which significant distribution channel has highest cancellation percentage?)\n",
        "d1 = pd.DataFrame((group_by_dc['is_canceled'].sum()/group_by_dc.size())*100).drop(index = 'Undefined').rename(columns = {0: 'Cancel_%'})\n",
        "plt.figure(figsize = (10,5))\n",
        "sns.barplot(x = d1.index, y = d1['Cancel_%'])\n",
        "plt.title(\"Distribution channels' cancellation percentage\")\n",
        "plt.show()"
      ],
      "metadata": {
        "id": "lqAIGUfyphqO"
      },
      "execution_count": null,
      "outputs": []
    },
    {
      "cell_type": "markdown",
      "source": [
        "##### 1. Why did you pick the specific chart?"
      ],
      "metadata": {
        "id": "t27r6nlMphqO"
      }
    },
    {
      "cell_type": "markdown",
      "source": [
        "To find which significant distribution channel has highest cancellation percentage? We choosen bar chart as we have to compare distribution channels' cancelation percentages.As bar chart make more quick analysing the data throught it and bar charts are effective for comparing the sizes or frequencies of different categories or groups of data.\n",
        "\n",
        "By using bar charts,we can easily compare the relative percentages of distribution channels' cancellation percentage. The length of the bars represents the percentage, allowing for a quick visual understanding of the distribution. This helps us to identify any significant differences or patterns among the categories or groups."
      ],
      "metadata": {
        "id": "iv6ro40sphqO"
      }
    },
    {
      "cell_type": "markdown",
      "source": [
        "##### 2. What is/are the insight(s) found from the chart?"
      ],
      "metadata": {
        "id": "r2jJGEOYphqO"
      }
    },
    {
      "cell_type": "markdown",
      "source": [
        "The insight found from the chart is:\n",
        "* TA/TO has highest booking cancellation %."
      ],
      "metadata": {
        "id": "Po6ZPi4hphqO"
      }
    },
    {
      "cell_type": "markdown",
      "source": [
        "##### 3. Will the gained insights help creating a positive business impact?\n",
        "Are there any insights that lead to negative growth? Justify with specific reason."
      ],
      "metadata": {
        "id": "b0JNsNcRphqO"
      }
    },
    {
      "cell_type": "markdown",
      "source": [
        "Yes, gained insight help to creating a positive business impact.\n",
        "The insight is TA/TO has highest booking cancellation %. Therefore, a booking via TA/TO is 30% likely to get cancelled.\n",
        "\n",
        "As TA/TO is 30% likely to get cancelled whick mean we have to find the factors that effects the booking. Those factors have to improve so that customers not cancel booking."
      ],
      "metadata": {
        "id": "xvSq8iUTphqO"
      }
    },
    {
      "cell_type": "markdown",
      "source": [
        "#### Chart - 8"
      ],
      "metadata": {
        "id": "BZR9WyysphqO"
      }
    },
    {
      "cell_type": "code",
      "source": [
        "# Chart - 8 visualization code (what causes the cancelation of bookings of rooms by customers)\n",
        "waiting_bookings = df[df['days_in_waiting_list'] !=0]  # Selecting bookings with non zero waiting time\n",
        "fig, axes = plt.subplots(1, 2, figsize=(18, 8))\n",
        "sns.kdeplot(ax=axes[0],x = 'days_in_waiting_list', hue = 'is_canceled' , data = waiting_bookings)\n",
        "sns.kdeplot(ax = axes[1], x = df['lead_time'], hue = df['is_canceled'])\n",
        "plt.show()"
      ],
      "metadata": {
        "id": "TdPTWpAVphqO"
      },
      "execution_count": null,
      "outputs": []
    },
    {
      "cell_type": "markdown",
      "source": [
        "##### 1. Why did you pick the specific chart?"
      ],
      "metadata": {
        "id": "jj7wYXLtphqO"
      }
    },
    {
      "cell_type": "markdown",
      "source": [
        "To find what causes the cancelation of bookings of rooms by customers. One question can arise that may be longer waiting period or longer lead time causes the cancellation of booking. A kernel density estimate (KDE) plot is a method for visualizing the distribution of observations in a dataset, analogous to a histogram. KDE represents the data using a continuous probability density curve in one or more dimensions.So, we choose kde plot for visualizing the distribution of cancelation of days in waiting list and lead time."
      ],
      "metadata": {
        "id": "Ob8u6rCTphqO"
      }
    },
    {
      "cell_type": "markdown",
      "source": [
        "##### 2. What is/are the insight(s) found from the chart?"
      ],
      "metadata": {
        "id": "eZrbJ2SmphqO"
      }
    },
    {
      "cell_type": "markdown",
      "source": [
        "The insights found from the chart are:\n",
        "* We see that most of the bookings that are cancelled have waiting period of less 150 days but also most of bookings that are not cancelled also have waiting period less than 150 days.\n",
        "\n",
        "* Lead time for both curves of cancelation and not cancelation are similar."
      ],
      "metadata": {
        "id": "mZtgC_hjphqO"
      }
    },
    {
      "cell_type": "markdown",
      "source": [
        "##### 3. Will the gained insights help creating a positive business impact?\n",
        "Are there any insights that lead to negative growth? Justify with specific reason."
      ],
      "metadata": {
        "id": "rFu4xreNphqO"
      }
    },
    {
      "cell_type": "markdown",
      "source": [
        "We see that most of the bookings that are cancelled have waiting period of less 150 days but also most of bookings that are not cancelled also have waiting period less than 150 days. Hence this shows that waiting period has no effect on cancellation of bookings.Also, lead time has no affect on cancellation of bookings, as both curves of cancelation and not cancelation are similar for lead time too. Therefore, waiting and lead time not effects the cancellation of bookings. So, above gained insight help to creating positive business impact as we know that lead time and waiting period does not effect business."
      ],
      "metadata": {
        "id": "FIS1YIuueFGP"
      }
    },
    {
      "cell_type": "markdown",
      "source": [
        "#### Chart - 9"
      ],
      "metadata": {
        "id": "YJ55k-q6phqO"
      }
    },
    {
      "cell_type": "code",
      "source": [
        "# Chart - 9 visualization code (which month results in high revenue?)\n",
        "reindex = ['January', 'February','March','April','May','June','July','August','September','October','November','December']\n",
        "df['arrival_date_month'] = pd.Categorical(df['arrival_date_month'],categories=reindex,ordered=True)\n",
        "plt.figure(figsize = (15,8))\n",
        "sns.boxplot(x = df['arrival_date_month'],y = df['adr'])\n",
        "plt.show()"
      ],
      "metadata": {
        "id": "B2aS4O1ophqO"
      },
      "execution_count": null,
      "outputs": []
    },
    {
      "cell_type": "markdown",
      "source": [
        "We notice that there is an outlier in adr, so we will remove that for better box plot."
      ],
      "metadata": {
        "id": "dIsy42dwugdm"
      }
    },
    {
      "cell_type": "code",
      "source": [
        "df.drop(df[df['adr'] > 5000].index, inplace = True)"
      ],
      "metadata": {
        "id": "fRlDpmYtu4Qz"
      },
      "execution_count": null,
      "outputs": []
    },
    {
      "cell_type": "code",
      "source": [
        "reindex = ['January', 'February','March','April','May','June','July','August','September','October','November','December']\n",
        "df['arrival_date_month'] = pd.Categorical(df['arrival_date_month'],categories=reindex,ordered=True)\n",
        "plt.figure(figsize = (15,8))\n",
        "sns.boxplot(x = df['arrival_date_month'],y = df['adr'])\n",
        "plt.title(\"Average daily rate of Arrival month\")\n",
        "plt.show()"
      ],
      "metadata": {
        "id": "NJw43PHIu83A"
      },
      "execution_count": null,
      "outputs": []
    },
    {
      "cell_type": "markdown",
      "source": [
        "##### 1. Why did you pick the specific chart?"
      ],
      "metadata": {
        "id": "gCFgpxoyphqP"
      }
    },
    {
      "cell_type": "markdown",
      "source": [
        "We picked boxplot as we have to analyze Average Daily Rate of customers arrival month. A box plot (or box-and-whisker plot) shows the distribution of quantitative data in a way that facilitates comparisons between variables or across levels of a categorical variable. The box shows the quartiles of the dataset while the whiskers extend to show the rest of the distribution, except for points that are determined to be “outliers” using a method that is a function of the inter-quartile range.\n",
        "\n",
        "Here, we have to analyse the distribution of average daily rate of arrival months which can be analyse in boxplot is quite effective compare to other charts."
      ],
      "metadata": {
        "id": "TVxDimi2phqP"
      }
    },
    {
      "cell_type": "markdown",
      "source": [
        "##### 2. What is/are the insight(s) found from the chart?"
      ],
      "metadata": {
        "id": "OVtJsKN_phqQ"
      }
    },
    {
      "cell_type": "markdown",
      "source": [
        "The insights found from the chart are:\n",
        "* Avg adr rises from beginning of year upto middle of year and reaches peak at August and then lowers to the end of year.\n",
        "* But hotels do make some good deals with high adr at end of year also."
      ],
      "metadata": {
        "id": "ngGi97qjphqQ"
      }
    },
    {
      "cell_type": "markdown",
      "source": [
        "##### 3. Will the gained insights help creating a positive business impact?\n",
        "Are there any insights that lead to negative growth? Justify with specific reason."
      ],
      "metadata": {
        "id": "lssrdh5qphqQ"
      }
    },
    {
      "cell_type": "markdown",
      "source": [
        "Yes, gained insights help creating a positive business impact. As average of Average Daily Rate raises from beginning of year upto middle of year and reaches peach at August and lowers to the end of year. So from July month only there is high revenue in business which helps in the growth of business."
      ],
      "metadata": {
        "id": "tBpY5ekJphqQ"
      }
    },
    {
      "cell_type": "markdown",
      "source": [
        "#### Chart - 10"
      ],
      "metadata": {
        "id": "U2RJ9gkRphqQ"
      }
    },
    {
      "cell_type": "code",
      "source": [
        "# Chart - 10 visualization code\n",
        "plt.figure(figsize = (12,6))\n",
        "sns.scatterplot(y = 'adr', x = 'total_stay', data = df)\n",
        "plt.title(\"Relation between adr and total stay\")\n",
        "plt.show()"
      ],
      "metadata": {
        "id": "GM7a4YP4phqQ"
      },
      "execution_count": null,
      "outputs": []
    },
    {
      "cell_type": "markdown",
      "source": [
        "##### 1. Why did you pick the specific chart?"
      ],
      "metadata": {
        "id": "1M8mcRywphqQ"
      }
    },
    {
      "cell_type": "markdown",
      "source": [
        "To find how length of stay affects the average daily rate. As we have to find the relation between length of stay and average daily rate. So I pick scatterplot for this."
      ],
      "metadata": {
        "id": "8agQvks0phqQ"
      }
    },
    {
      "cell_type": "markdown",
      "source": [
        "##### 2. What is/are the insight(s) found from the chart?"
      ],
      "metadata": {
        "id": "tgIPom80phqQ"
      }
    },
    {
      "cell_type": "markdown",
      "source": [
        "From the scatter plot we can see that as length of total_stay increases the average daily rate decreases. This means for longer stay, the better deal for customer can be finalised."
      ],
      "metadata": {
        "id": "Qp13pnNzphqQ"
      }
    },
    {
      "cell_type": "markdown",
      "source": [
        "##### 3. Will the gained insights help creating a positive business impact?\n",
        "Are there any insights that lead to negative growth? Justify with specific reason."
      ],
      "metadata": {
        "id": "JMzcOPDDphqR"
      }
    },
    {
      "cell_type": "markdown",
      "source": [
        "*   Yes, this insight lead to positive growth as customers stay longer period of time in hotel, customer have to pay less which attact customers to stay in hotel for longer period.\n",
        "*   It also lead customers to stay in one hotel other than moving to other.\n",
        "*   Customers use to prefer hotel for long period stay instead of other accommodations."
      ],
      "metadata": {
        "id": "R4Ka1PC2phqR"
      }
    },
    {
      "cell_type": "markdown",
      "source": [
        "#### Chart - 11"
      ],
      "metadata": {
        "id": "x-EpHcCOp1ci"
      }
    },
    {
      "cell_type": "code",
      "source": [
        "# Chart - 11 visualization code\n",
        "## Select single, couple, multiple adults and family\n",
        "not_canceled = df[df['is_canceled'] == 0]\n",
        "single   = not_canceled[(not_canceled['adults']==1) & (not_canceled['children']==0) & (not_canceled['babies']==0)]\n",
        "couple   = not_canceled[(not_canceled['adults']==2) & (not_canceled['children']==0) & (not_canceled['babies']==0)]\n",
        "family   = not_canceled[not_canceled['adults'] + not_canceled['children'] + not_canceled['babies'] > 2]\n",
        "\n",
        "reindex = ['January', 'February','March','April','May','June','July','August','September','October','November','December']\n",
        "\n",
        "fig, ax = plt.subplots(figsize=(12, 8))\n",
        "\n",
        "for type in ['single', 'couple', 'family']:\n",
        "  d1 = eval(type).groupby(['arrival_date_month']).size().reset_index().rename(columns = {0:'arrival_num'})\n",
        "  d1['arrival_date_month'] = pd.Categorical(d1['arrival_date_month'],categories=reindex,ordered=True)\n",
        "  sns.lineplot(data=d1, x= 'arrival_date_month', y='arrival_num', label=type, ax=ax)\n",
        "\n",
        "plt.grid()\n",
        "plt.show()\n"
      ],
      "metadata": {
        "id": "mAQTIvtqp1cj"
      },
      "execution_count": null,
      "outputs": []
    },
    {
      "cell_type": "markdown",
      "source": [
        "##### 1. Why did you pick the specific chart?"
      ],
      "metadata": {
        "id": "X_VqEhTip1ck"
      }
    },
    {
      "cell_type": "markdown",
      "source": [
        "We choose lineplot as we have to analyse data i.e. treading time where we prefer lineplot which make analysis effective. As lineplot shows the relationship between arrival month of customer and number of customers can be shown for different subsets of the data."
      ],
      "metadata": {
        "id": "-vsMzt_np1ck"
      }
    },
    {
      "cell_type": "markdown",
      "source": [
        "##### 2. What is/are the insight(s) found from the chart?"
      ],
      "metadata": {
        "id": "8zGJKyg5p1ck"
      }
    },
    {
      "cell_type": "markdown",
      "source": [
        "The insight found from the chart is:\n",
        "* Moslty bookings are done by couples(although we are not sure that they are couple as data doesn't tell about that)\n",
        "\n"
      ],
      "metadata": {
        "id": "ZYdMsrqVp1ck"
      }
    },
    {
      "cell_type": "markdown",
      "source": [
        "##### 3. Will the gained insights help creating a positive business impact?\n",
        "Are there any insights that lead to negative growth? Justify with specific reason."
      ],
      "metadata": {
        "id": "PVzmfK_Ep1ck"
      }
    },
    {
      "cell_type": "markdown",
      "source": [
        "Yes, gained insights that lead to positive business growth. As moslty bookings are done by couples which it is clear from graph that their is a sudden surge in arrival num of couples and family in months of July and August. So better plans can be planned accordingly at that time for these type of customers in hotels."
      ],
      "metadata": {
        "id": "druuKYZpp1ck"
      }
    },
    {
      "cell_type": "markdown",
      "source": [
        "#### Chart - 12"
      ],
      "metadata": {
        "id": "n3dbpmDWp1ck"
      }
    },
    {
      "cell_type": "code",
      "source": [
        "# Chart - 12 visualization code\n",
        "#Special request according to number of kids.\n",
        "df['kids'] = df['children']+df['babies']\n",
        "sns.barplot(x=\"kids\", y=\"total_of_special_requests\",data= df)\n",
        "fig = plt.gcf()\n",
        "plt.title(\"Special request according to number of kids\")\n",
        "fig.set_size_inches(15,10)"
      ],
      "metadata": {
        "id": "bwevp1tKp1ck"
      },
      "execution_count": null,
      "outputs": []
    },
    {
      "cell_type": "code",
      "source": [
        "#Special request according to number of adults.\n",
        "sns.barplot(x=\"adults\", y=\"total_of_special_requests\",data= hotel_df)\n",
        "fig = plt.gcf()\n",
        "plt.title(\"Special request according to number of adults\")\n",
        "fig.set_size_inches(15,10)"
      ],
      "metadata": {
        "id": "S5X-YKF24rHr"
      },
      "execution_count": null,
      "outputs": []
    },
    {
      "cell_type": "markdown",
      "source": [
        "##### 1. Why did you pick the specific chart?"
      ],
      "metadata": {
        "id": "ylSl6qgtp1ck"
      }
    },
    {
      "cell_type": "markdown",
      "source": [
        "To find reasons for special requests bar chart is better chart to compare special requests for kids and adults. From which category the most special requests are coming for booking is to be analyse in barplot is effective."
      ],
      "metadata": {
        "id": "m2xqNkiQp1ck"
      }
    },
    {
      "cell_type": "markdown",
      "source": [
        "##### 2. What is/are the insight(s) found from the chart?"
      ],
      "metadata": {
        "id": "ZWILFDl5p1ck"
      }
    },
    {
      "cell_type": "markdown",
      "source": [
        "The insights found from the chart are:\n",
        "* The number of special request in the kids section and adults section is same.\n",
        "* In kids section, single kid have more special request for booking.\n",
        "* In adults section, 3 number of adults have more special requests for booking."
      ],
      "metadata": {
        "id": "x-lUsV2mp1ck"
      }
    },
    {
      "cell_type": "markdown",
      "source": [
        "##### 3. Will the gained insights help creating a positive business impact?\n",
        "Are there any insights that lead to negative growth? Justify with specific reason."
      ],
      "metadata": {
        "id": "M7G43BXep1ck"
      }
    },
    {
      "cell_type": "markdown",
      "source": [
        "Yes, above insights help to lead positive business impact as the number of special request are almost the same in the kids section and adults section. But, we can see that if the adults are more than 2 there are more chances that hotels will receive more special requests."
      ],
      "metadata": {
        "id": "5wwDJXsLp1cl"
      }
    },
    {
      "cell_type": "markdown",
      "source": [
        "#### Chart - 13"
      ],
      "metadata": {
        "id": "Ag9LCva-p1cl"
      }
    },
    {
      "cell_type": "code",
      "source": [
        "sns.barplot(data = df, x = \"total_people\" ,y = \"required_car_parking_spaces\")\n",
        "plt.title(\"No. of Required car parking spaces for customers\")"
      ],
      "metadata": {
        "id": "odAIxTHIFlbE"
      },
      "execution_count": null,
      "outputs": []
    },
    {
      "cell_type": "markdown",
      "source": [
        "##### 1. Why did you pick the specific chart?"
      ],
      "metadata": {
        "id": "E6MkPsBcp1cl"
      }
    },
    {
      "cell_type": "markdown",
      "source": [
        "To find which how many customers requeres car parking space, barplot is best graph to compare the data for effective analysis. As we want to analyse wheather customer require car parking and how important car parking for customer."
      ],
      "metadata": {
        "id": "V22bRsFWp1cl"
      }
    },
    {
      "cell_type": "markdown",
      "source": [
        "##### 2. What is/are the insight(s) found from the chart?"
      ],
      "metadata": {
        "id": "2cELzS2fp1cl"
      }
    },
    {
      "cell_type": "markdown",
      "source": [
        "The insights found from the chart are:\n",
        "* Four members which means a family required car parking mostly.\n",
        "* Most four members and five menbers of family requires car parking."
      ],
      "metadata": {
        "id": "ozQPc2_Ip1cl"
      }
    },
    {
      "cell_type": "markdown",
      "source": [
        "##### 3. Will the gained insights help creating a positive business impact?\n",
        "Are there any insights that lead to negative growth? Justify with specific reason."
      ],
      "metadata": {
        "id": "3MPXvC8up1cl"
      }
    },
    {
      "cell_type": "markdown",
      "source": [
        "Yes, above insight help to create positive business growth. From above insight we know that mostly adults requires car parking space. The members who have more than four are mostly require car parking as they have cars.\n",
        "\n",
        "Every hotel have to increase there car parking space for better business growth as many customers require car parking space. This factor effect customer bookings which effects business."
      ],
      "metadata": {
        "id": "GL8l1tdLp1cl"
      }
    },
    {
      "cell_type": "markdown",
      "source": [
        "#### Chart - 14 - Correlation Heatmap"
      ],
      "metadata": {
        "id": "NC_X3p0fY2L0"
      }
    },
    {
      "cell_type": "code",
      "source": [
        "# Correlation Heatmap visualization code\n",
        "num_df1 = df[['lead_time','previous_cancellations','previous_bookings_not_canceled','booking_changes','days_in_waiting_list','adr','required_car_parking_spaces','total_of_special_requests','total_stay','total_people']]"
      ],
      "metadata": {
        "id": "xyC9zolEZNRQ"
      },
      "execution_count": null,
      "outputs": []
    },
    {
      "cell_type": "code",
      "source": [
        "corrmat = num_df1.corr()\n",
        "f, ax = plt.subplots(figsize=(12, 7))\n",
        "sns.heatmap(corrmat,annot = True,fmt='.2f', annot_kws={'size': 10},  vmax=.8, square=True);"
      ],
      "metadata": {
        "id": "IBtcfnTbw9wg"
      },
      "execution_count": null,
      "outputs": []
    },
    {
      "cell_type": "markdown",
      "source": [
        "##### 1. Why did you pick the specific chart?"
      ],
      "metadata": {
        "id": "UV0SzAkaZNRQ"
      }
    },
    {
      "cell_type": "markdown",
      "source": [
        "To find the correlation between the numerical data. Since, columns like 'is_cancelled', 'arrival_date_year', 'arrival_date_week_number', 'arrival_date_day_of_month', 'is_repeated_guest', 'company', 'agent' are categorical data having numerical type. So we wont need to check them for correlation.\n",
        "\n",
        "Also, we have added total_stay and total_people columns. So, we can remove adults, children, babies, stays_in_weekend_nights, stays_in_week_nights columns.\n",
        "\n",
        "The correlation heatmap is a suitable chart for analyzing the correlation between multiple variables. It allows us to visualize the strength and direction of the linear relationship between each pair of variables in the dataset. By using a correlation heatmap, we can quickly identify variables that are positively or negatively correlated with each other. The color-coding in heatmap provides a visual representation of the correlation coefficients, making it easier to interpret and identify patterns in the data. The range of correlation is [-1,1].\n",
        "* A correlation value of 1 indicates a perfect positive correlation, meaning that as one variable increases, the other variable also increases proportionally.\n",
        "* A correlation value of -1 indicates a perfect negative correlation, meaning that as one variable increases, the other variable decreases proportionally.\n",
        "* A correlation value of 0 indicates no linear correlation, meaning that there is no linear relation between two variables."
      ],
      "metadata": {
        "id": "DVPuT8LYZNRQ"
      }
    },
    {
      "cell_type": "markdown",
      "source": [
        "##### 2. What is/are the insight(s) found from the chart?"
      ],
      "metadata": {
        "id": "YPEH6qLeZNRQ"
      }
    },
    {
      "cell_type": "markdown",
      "source": [
        "From the correlatin heatmap, we can observe the following insights:\n",
        "1.   Total stay length and lead time have slight correlation. This may means that for longer hotel stays people generally plan little before the the actual arrival.\n",
        "2.   adr i.e. average daily rate is slightly correlated with total_people, which makes sense as more no. of people means more revenue, therefore more average daily rate.\n",
        "\n",
        "\n",
        "\n"
      ],
      "metadata": {
        "id": "bfSqtnDqZNRR"
      }
    },
    {
      "cell_type": "markdown",
      "source": [
        "#### Chart - 15 - Pair Plot"
      ],
      "metadata": {
        "id": "q29F0dvdveiT"
      }
    },
    {
      "cell_type": "code",
      "source": [
        "# Pair Plot visualization code\n",
        "sns.pairplot(num_df1)"
      ],
      "metadata": {
        "id": "o58-TEIhveiU"
      },
      "execution_count": null,
      "outputs": []
    },
    {
      "cell_type": "markdown",
      "source": [
        "##### 1. Why did you pick the specific chart?"
      ],
      "metadata": {
        "id": "EXh0U9oCveiU"
      }
    },
    {
      "cell_type": "markdown",
      "source": [
        "A pairplot, also known as a scatterplot matrix, is a visualization that allows you to visualize the relationships between all pairs of variables in a dataset. It is a useful tool for data exploration because it allows you to quickly see how all variables in a dataset to one another.\n",
        "\n",
        "Thus, we used pair plot to analyse the patterns of data and relationship between the features. It's exactly same as the correlation map but here you will get the graphical representation."
      ],
      "metadata": {
        "id": "eMmPjTByveiU"
      }
    },
    {
      "cell_type": "markdown",
      "source": [
        "##### 2. What is/are the insight(s) found from the chart?"
      ],
      "metadata": {
        "id": "22aHeOlLveiV"
      }
    },
    {
      "cell_type": "markdown",
      "source": [
        "Based on the pairplot analysis, it appears that the variables in the dataset have a week or no significant linear relationship with each other. There are no clear patterns or strong correlations between the variables. This suggests that the variables are relatively independent of each other and may not have a strong influence on one another."
      ],
      "metadata": {
        "id": "uPQ8RGwHveiV"
      }
    },
    {
      "cell_type": "markdown",
      "source": [
        "## **5. Solution to Business Objective**"
      ],
      "metadata": {
        "id": "JcMwzZxoAimU"
      }
    },
    {
      "cell_type": "markdown",
      "source": [
        "#### What do you suggest the client to achieve Business Objective ?\n",
        "Based on the analysis, here are some suggestions to achive the business objectives:"
      ],
      "metadata": {
        "id": "8G2x9gOozGDZ"
      }
    },
    {
      "cell_type": "markdown",
      "source": [
        "1. **Cancellation Policies:** Implement stricter rules and policies for cancellations, especially for bookings made through Online Travel Angencies. Consider the reasons for cancellation and take related precuations for the growth of business. Consider releasing booking commissions only after successful completion of the booking to discourage cancellations.\n",
        "2.** ADR for Hotel:** Take actions to improve the Average Daily Rate(ADR) for the hotel. This could involve enhancing facilities,services, or amenities to provide a higher value proposition for guests. Aspecially after middle of the year, adr have to be take care as to gain profits and huge revenue.\n",
        "3. **Off-Peack Month:** Implement additional marketing and business stratergies to boost business during the months of November, December, January, and February. Consider offering seasonal promotions, targeted advertising, or partnerships with local events or attractions.\n",
        "4. **Deposit Type:** Investigate the reasons behind cancellations for non-refundable deposits and take necessary precautions. Provide clear information about the refund policies for different deposit types to set proper expectations.\n",
        "5. **Previously Cancelled Bookings:** Develop policies or incentives to discourage cancellations for customers who have a history of cancelling bookings. This could include offering special discounts or benefits for those who commit to their bookings.\n",
        "6. **Bulk/Group Bookings:** Develop plans to attract and increase bulk/group booking, as they tend to have better ADR. Consider offering special group rates, customized packages, or additional incentives to attract larger bookings.\n",
        "7. **Improve Hotel facilities:** Hotel facilities have to develop according to the customers as most customers use to be couples. So, Hotel facilities and factors are developed according to the couples and remodify the rooms as per the couples.\n",
        "8. **Distribution Channels:** TA/TO have to be widely distributed i.e. in most areas TA/TO.They are near to the customers so that they can book hotel rooms easily. Other distribution channels also have improve as per the customer.\n",
        "\n",
        "By implementing these stratergies, the business can work towards reducing cancellations, increasing ADR and maximizing revenue during both peak and off-peak seasons."
      ],
      "metadata": {
        "id": "pASKb0qOza21"
      }
    },
    {
      "cell_type": "markdown",
      "source": [
        "# **Conclusion**"
      ],
      "metadata": {
        "id": "gCX9965dhzqZ"
      }
    },
    {
      "cell_type": "markdown",
      "source": [
        "(1) Around 60% bookings are for City hotel and 40% bookings are for Resort hotel, therefore City Hotel is busier than Resort hotel. Also the overall adr of City hotel is slightly higher than Resort hotel.\n",
        "\n",
        "(2) Mostly guests stay for less than 5 days in hotel and for longer stays Resort hotel is preferred.\n",
        "\n",
        "(3) Both hotels have significantly higher booking cancellation rates and very few guests less than 3 % return for another booking in City hotel. 5% guests return for stay in Resort hotel.\n",
        "\n",
        "(4) Most of the guests came from european countries, with most of guests coming from Portugal.\n",
        "\n",
        "(5) Guests use different channels for making bookings out of which most preferred way is TA/TO.\n",
        "\n",
        "(6) For hotels higher adr deals come via GDS channel, so hotels should increase their popularity on this channel.\n",
        "\n",
        "(7) Almost 30% of bookings via TA/TO are cancelled.\n",
        "\n",
        "(8) Not getting same room as reserved, longer lead time and waiting time do not affect cancellation of bookings. Although different room allotment do lowers the adr.\n",
        "\n",
        "(9) July- August are the most busier and profitable months for both of hotels.\n",
        "\n",
        "(10) Within a month, adr gradually increases as month ends, with small sudden rise on weekends.\n",
        "\n",
        "(11) Couples are the most common guests for hotels, hence hotels can plan services according to couples needs to increase revenue.\n",
        "\n",
        "(12) More number of people in guests results in more number of special requests.\n",
        "\n",
        "(13) Bookings made via complementary market segment and adults have on average high no. of special request.\n",
        "\n",
        "(14) For customers, generally the longer stays (more than 15 days) can result in better deals in terms of low adr.\n",
        "\n"
      ],
      "metadata": {
        "id": "Fjb1IsQkh3yE"
      }
    },
    {
      "cell_type": "markdown",
      "source": [
        "### ***Hurrah! You have successfully completed your EDA Capstone Project !!!***"
      ],
      "metadata": {
        "id": "gIfDvo9L0UH2"
      }
    }
  ]
}